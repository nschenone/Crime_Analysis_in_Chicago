{
 "cells": [
  {
   "cell_type": "markdown",
   "metadata": {},
   "source": [
    "# Crime Analysis in Chicago (2001 vs. 2018)"
   ]
  },
  {
   "cell_type": "markdown",
   "metadata": {},
   "source": [
    "## Descriptive Data Analysis"
   ]
  },
  {
   "cell_type": "markdown",
   "metadata": {},
   "source": [
    "### Setup"
   ]
  },
  {
   "cell_type": "code",
   "execution_count": 1,
   "metadata": {},
   "outputs": [],
   "source": [
    "# Imports\n",
    "import numpy as np\n",
    "import pandas as pd\n",
    "pd.set_option('display.max_columns', 500)\n",
    "import matplotlib.pyplot as plt\n",
    "plt.rcParams['figure.figsize'] = (30, 15) #increase figure size"
   ]
  },
  {
   "cell_type": "code",
   "execution_count": null,
   "metadata": {},
   "outputs": [],
   "source": [
    "# Load all datasets\n",
    "df_2003 = pd.read_csv(\"data/crime_2003.csv\")\n",
    "df_2003.name = \"Crime in 2003\"\n",
    "df_2003.year = \"2003\"\n",
    "\n",
    "df_2007 = pd.read_csv(\"data/crime_2007.csv\")\n",
    "df_2007.name = \"Crime in 2007\"\n",
    "df_2007.year = \"2007\"\n",
    "\n",
    "df_2016 = pd.read_csv(\"data/crime_2016.csv\")\n",
    "df_2016.name = \"Crime in 2016\"\n",
    "df_2016.year = \"2016\"\n",
    "\n",
    "datasets = [df_2003,\n",
    "            df_2007,\n",
    "            df_2016]\n",
    "\n",
    "df_2008 = pd.read_csv(\"data/crime_2008.csv\")\n",
    "df_2008.name = \"Crime in 2008\"\n",
    "df_2008.year = \"2008\"\n",
    "\n",
    "df_2009 = pd.read_csv(\"data/crime_2009.csv\")\n",
    "df_2009.name = \"Crime in 2009\"\n",
    "df_2009.year = \"2009\"\n",
    "\n",
    "df_2010 = pd.read_csv(\"data/crime_2010.csv\")\n",
    "df_2010.name = \"Crime in 2010\"\n",
    "df_2010.year = \"2010\"\n",
    "\n",
    "df_2011 = pd.read_csv(\"data/crime_2011.csv\")\n",
    "df_2011.name = \"Crime in 2011\"\n",
    "df_2011.year = \"2011\"\n",
    "\n",
    "df_2012 = pd.read_csv(\"data/crime_2012.csv\")\n",
    "df_2012.name = \"Crime in 2012\"\n",
    "df_2012.year = \"2012\"\n",
    "\n",
    "\n",
    "datasets_by_area = [df_2008,\n",
    "                    df_2009,\n",
    "                    df_2010,\n",
    "                    df_2011,\n",
    "                    df_2012]"
   ]
  },
  {
   "cell_type": "markdown",
   "metadata": {},
   "source": [
    "### Size"
   ]
  },
  {
   "cell_type": "code",
   "execution_count": null,
   "metadata": {
    "scrolled": true
   },
   "outputs": [],
   "source": [
    "for dataset in datasets:\n",
    "    print(\"Dataset: {}, Shape: {}\".format(dataset.name, dataset.shape))\n",
    "    print(\"test\")"
   ]
  },
  {
   "cell_type": "markdown",
   "metadata": {},
   "source": [
    "### Missingness"
   ]
  },
  {
   "cell_type": "code",
   "execution_count": null,
   "metadata": {
    "scrolled": true
   },
   "outputs": [],
   "source": [
    "for dataset in datasets:\n",
    "    print(\"Dataset: {}\".format(dataset.name))\n",
    "    print(dataset.isnull().sum())\n",
    "    print('\\n')"
   ]
  },
  {
   "cell_type": "markdown",
   "metadata": {},
   "source": [
    "### Remove rows with missing values"
   ]
  },
  {
   "cell_type": "code",
   "execution_count": null,
   "metadata": {},
   "outputs": [],
   "source": [
    "for dataset in datasets:\n",
    "    dataset.dropna(inplace=True)\n",
    "    \n",
    "for dataset in datasets_by_area:\n",
    "    dataset.dropna(inplace=True)"
   ]
  },
  {
   "cell_type": "code",
   "execution_count": null,
   "metadata": {},
   "outputs": [],
   "source": [
    "for dataset in datasets:\n",
    "    dataset.drop(columns=['ID', 'Case Number', 'Block', 'IUCR', 'Beat', 'Ward', 'FBI Code', 'Updated On', 'Latitude', 'Longitude'], axis=1, inplace=True)\n",
    "\n",
    "for dataset in datasets_by_area:\n",
    "    dataset.drop(columns=['ID', 'Case Number', 'Block', 'IUCR', 'Beat', 'Ward', 'FBI Code', 'Updated On', 'Latitude', 'Longitude'], axis=1, inplace=True)"
   ]
  },
  {
   "cell_type": "markdown",
   "metadata": {},
   "source": [
    "### Number of crimes per year"
   ]
  },
  {
   "cell_type": "code",
   "execution_count": null,
   "metadata": {},
   "outputs": [],
   "source": [
    "years = []\n",
    "data_len = []\n",
    "for dataset in datasets:\n",
    "    years.append(dataset.year)\n",
    "    data_len.append(len(dataset))\n",
    "\n",
    "df_num = pd.DataFrame({'Year': years,'Num Crimes': data_len}).set_index('Year')\n",
    "df_num.plot(kind='bar', rot=0);"
   ]
  },
  {
   "cell_type": "code",
   "execution_count": null,
   "metadata": {},
   "outputs": [],
   "source": [
    "print(\"this is a test - github pls work\")"
   ]
  },
  {
   "cell_type": "markdown",
   "metadata": {},
   "source": [
    "### Crime per community area (2003, 2007, 2016)"
   ]
  },
  {
   "cell_type": "code",
   "execution_count": null,
   "metadata": {},
   "outputs": [],
   "source": [
    "df_areas = pd.DataFrame()\n",
    "df_areas['2003'] = df_2003['Community Area'].value_counts()\n",
    "df_areas['2007'] = df_2007['Community Area'].value_counts()\n",
    "df_areas['2016'] = df_2016['Community Area'].value_counts()\n",
    "df_areas.plot(kind='bar', rot=90);"
   ]
  },
  {
   "cell_type": "markdown",
   "metadata": {},
   "source": [
    "## Latitude & Longtitude"
   ]
  },
  {
   "cell_type": "code",
   "execution_count": null,
   "metadata": {},
   "outputs": [],
   "source": [
    "import descartes\n",
    "import geopandas as gpd\n",
    "from shapely.geometry import Point, Polygon"
   ]
  },
  {
   "cell_type": "code",
   "execution_count": null,
   "metadata": {},
   "outputs": [],
   "source": [
    "crs={'init':'epsg:4326'}\n",
    "\n",
    "# zip the Longtitude and Latitude together. Each point represents a row in Data frame\n",
    "Geo_2003= [Point(xy) for xy in zip (df_2003[\"X Coordinate\"],df_2003[\"Y Coordinate\"])]\n",
    "Geo_2007= [Point(xy) for xy in zip (df_2007[\"X Coordinate\"],df_2007[\"Y Coordinate\"])]\n",
    "Geo_2016= [Point(xy) for xy in zip (df_2016[\"X Coordinate\"],df_2016[\"Y Coordinate\"])]\n",
    "\n",
    "Geo_df_2003= gpd.GeoDataFrame(df_2003,crs=crs,geometry=Geo_2003)\n",
    "Geo_df_2007= gpd.GeoDataFrame(df_2007,crs=crs,geometry=Geo_2007)\n",
    "Geo_df_2016= gpd.GeoDataFrame(df_2016,crs=crs,geometry=Geo_2016)"
   ]
  },
  {
   "cell_type": "code",
   "execution_count": null,
   "metadata": {},
   "outputs": [],
   "source": [
    "fig,ax= plt.subplots(figsize=(8,8))\n",
    "Geo_df_2003.plot(ax=ax,markersize=0.25)\n",
    "ax.set_title('Crimes happened in Chicago in 2003')"
   ]
  },
  {
   "cell_type": "code",
   "execution_count": null,
   "metadata": {},
   "outputs": [],
   "source": [
    "fig,ax= plt.subplots(figsize=(8,8))\n",
    "Geo_df_2007.plot(ax=ax,markersize=0.25)\n",
    "ax.set_title('Crimes happened in Chicago in 2007')\n",
    "plt.show()"
   ]
  },
  {
   "cell_type": "code",
   "execution_count": null,
   "metadata": {},
   "outputs": [],
   "source": [
    "fig,ax= plt.subplots(figsize=(8,8))\n",
    "Geo_df_2016.plot(ax=ax,markersize=0.25)\n",
    "ax.set_title('Crimes happened in Chicago in 2016')\n",
    "plt.show()"
   ]
  },
  {
   "cell_type": "code",
   "execution_count": null,
   "metadata": {},
   "outputs": [],
   "source": [
    "## You can change Primary Type to see different types."
   ]
  },
  {
   "cell_type": "code",
   "execution_count": null,
   "metadata": {},
   "outputs": [],
   "source": [
    "fig,ax= plt.subplots(figsize=(8,8))\n",
    "Geo_df_2003[Geo_df_2003['Primary Type']=='THEFT'].plot(ax=ax,markersize=0.25)\n",
    "ax.set_title('Homicide happened in Chicago in 2003')"
   ]
  },
  {
   "cell_type": "code",
   "execution_count": null,
   "metadata": {},
   "outputs": [],
   "source": [
    "fig,ax= plt.subplots(figsize=(8,8))\n",
    "Geo_df_2007[Geo_df_2007['Primary Type']=='THEFT'].plot(ax=ax,markersize=0.25)\n",
    "ax.set_title('Homicide happened in Chicago in 2007')"
   ]
  },
  {
   "cell_type": "code",
   "execution_count": null,
   "metadata": {},
   "outputs": [],
   "source": [
    "fig,ax= plt.subplots(figsize=(8,8))\n",
    "Geo_df_2016[Geo_df_2016['Primary Type']=='THEFT'].plot(ax=ax,markersize=0.25)\n",
    "ax.set_title('Homicide happened in Chicago in 2016')"
   ]
  },
  {
   "cell_type": "markdown",
   "metadata": {},
   "source": [
    "## Choropleth "
   ]
  },
  {
   "cell_type": "code",
   "execution_count": null,
   "metadata": {
    "scrolled": false
   },
   "outputs": [],
   "source": [
    "fd='data/PoliceDistrict copy.shp'\n",
    "map_Chicago=gpd.read_file(fd)\n",
    "map_Chicago.drop(columns=['DIST_LABEL'],inplace=True)\n",
    "map_Chicago[\"DIST_NUM\"]=map_Chicago[\"DIST_NUM\"].apply(pd.to_numeric)\n",
    "\n",
    "district_2003=pd.DataFrame(df_2003['District'].value_counts())\n",
    "district_2007=pd.DataFrame(df_2007['District'].value_counts())\n",
    "district_2016=pd.DataFrame(df_2016['District'].value_counts())\n",
    "\n",
    "\n",
    "district_2003=district_2003.reset_index().rename(columns={'index':'DIST_NUM','District':'CRIME_NUM'})\n",
    "district_2007=district_2007.reset_index().rename(columns={'index':'DIST_NUM','District':'CRIME_NUM'})\n",
    "district_2016=district_2016.reset_index().rename(columns={'index':'DIST_NUM','District':'CRIME_NUM'})\n",
    "\n",
    "map_2003=map_Chicago.merge(district_2003,on='DIST_NUM')\n",
    "map_2007=map_Chicago.merge(district_2007,on='DIST_NUM')\n",
    "map_2016=map_Chicago.merge(district_2016,on='DIST_NUM')\n",
    "\n"
   ]
  },
  {
   "cell_type": "code",
   "execution_count": null,
   "metadata": {},
   "outputs": [],
   "source": [
    "SMALL_SIZE = 15\n",
    "MEDIUM_SIZE = 18\n",
    "BIGGER_SIZE = 22\n",
    "\n",
    "plt.rc('font', size=SMALL_SIZE)          # controls default text sizes\n",
    "plt.rc('axes', titlesize=SMALL_SIZE)     # fontsize of the axes title\n",
    "plt.rc('axes', labelsize=MEDIUM_SIZE)    # fontsize of the x and y labels\n",
    "plt.rc('xtick', labelsize=SMALL_SIZE)    # fontsize of the tick labels\n",
    "plt.rc('ytick', labelsize=SMALL_SIZE)    # fontsize of the tick labels\n",
    "plt.rc('legend', fontsize=SMALL_SIZE)    # legend fontsize\n",
    "plt.rc('figure', titlesize=BIGGER_SIZE)  # fontsize of the figure title\n",
    "\n",
    "plt.rcParams['figure.figsize'] = (25, 10) #increase figure size"
   ]
  },
  {
   "cell_type": "code",
   "execution_count": null,
   "metadata": {},
   "outputs": [],
   "source": [
    "fig, axs = plt.subplots(1,3)\n",
    "\n",
    "sm = plt.cm.ScalarMappable(cmap='Greens')\n",
    "sm._A = []\n",
    "cbar = fig.colorbar(sm)\n",
    "ax.axis('off')\n",
    "ax.set_title('Crime happened in Chicago in 2003')\n",
    "\n",
    "\n",
    "map_2003.plot(column=\"DIST_NUM\", cmap='Greens', linewidth=0.8, ax=axs[0], edgecolor='0.6')\n",
    "map_2007.plot(column=\"DIST_NUM\", cmap='Greens', linewidth=0.8, ax=axs[1], edgecolor='0.6')\n",
    "map_2016.plot(column=\"DIST_NUM\", cmap='Greens', linewidth=0.8, ax=axs[2], edgecolor='0.6')\n"
   ]
  },
  {
   "cell_type": "markdown",
   "metadata": {},
   "source": [
    "## Get Data"
   ]
  },
  {
   "cell_type": "code",
   "execution_count": 2,
   "metadata": {},
   "outputs": [],
   "source": [
    "df_2003 = pd.read_pickle(\"./data/crime_2003.pkl\")\n",
    "df_2003.name = \"Crime in 2003\"\n",
    "df_2003.year = \"2003\"\n",
    "\n",
    "df_2007 = pd.read_pickle(\"./data/crime_2007.pkl\")\n",
    "df_2007.name = \"Crime in 2007\"\n",
    "df_2007.year = \"2007\"\n",
    "\n",
    "df_2016 = pd.read_pickle(\"./data/crime_2016.pkl\")\n",
    "df_2016.name = \"Crime in 2016\"\n",
    "df_2016.year = \"2016\"\n",
    "\n",
    "datasets = [df_2003,\n",
    "            df_2007,\n",
    "            df_2016]\n",
    "\n",
    "df_2008 = pd.read_pickle(\"./data/crime_2008.pkl\")\n",
    "df_2008.name = \"Crime in 2008\"\n",
    "df_2008.year = \"2008\"\n",
    "\n",
    "df_2009 = pd.read_pickle(\"./data/crime_2009.pkl\")\n",
    "df_2009.name = \"Crime in 2009\"\n",
    "df_2009.year = \"2009\"\n",
    "\n",
    "df_2010 = pd.read_pickle(\"./data/crime_2010.pkl\")\n",
    "df_2010.name = \"Crime in 2010\"\n",
    "df_2010.year = \"2010\"\n",
    "\n",
    "df_2011 = pd.read_pickle(\"./data/crime_2011.pkl\")\n",
    "df_2011.name = \"Crime in 2011\"\n",
    "df_2011.year = \"2011\"\n",
    "\n",
    "df_2012 = pd.read_pickle(\"./data/crime_2012.pkl\")\n",
    "df_2012.name = \"Crime in 2012\"\n",
    "df_2012.year = \"2012\"\n",
    "\n",
    "datasets_by_area = [df_2008,\n",
    "                    df_2009,\n",
    "                    df_2010,\n",
    "                    df_2011,\n",
    "                    df_2012]"
   ]
  },
  {
   "cell_type": "code",
   "execution_count": null,
   "metadata": {},
   "outputs": [],
   "source": []
  },
  {
   "cell_type": "code",
   "execution_count": 4,
   "metadata": {
    "scrolled": false
   },
   "outputs": [
    {
     "data": {
      "text/plain": [
       "'\\n# Group by community area\\ndf_2008_2012 = df_2008_2012.groupby([\\'Community Area\\']).sum()\\n\\n# Drop unnecessary first row\\ndf_2008_2012.drop([0], inplace=True)\\n\\n\\n\\n# Join Dataframes\\ndf_2008_2012 = df_2008_2012.join(df_income, how=\\'outer\\')\\ndf_2008_2012.columns\\n\\n# Rename column (to remove space)\\ndf_2008_2012.rename(columns={\"PER CAPITA INCOME \": \"PER CAPITA INCOME\"}, inplace=True)'"
      ]
     },
     "execution_count": 4,
     "metadata": {},
     "output_type": "execute_result"
    }
   ],
   "source": [
    "# Combine datasets\n",
    "df_2008_2012 = pd.concat(datasets_by_area)\n",
    "\n",
    "# Get count of number of crimes\n",
    "df_2008_2012['Num Crimes'] = 1\n",
    "\n",
    "# Drop unnecessary columns\n",
    "df_2008_2012.drop(columns=['Arrest', 'Domestic', 'District', 'X Coordinate', 'Y Coordinate', 'Year'], axis=1, inplace=True)\n",
    "\n",
    "# Read in income data\n",
    "df_income = pd.read_csv(\"./data/Per_Capita_Income.csv\", index_col=0)\n",
    "df_income.index.names = ['Community Area']\n",
    "\"\"\"\n",
    "# Group by community area\n",
    "df_2008_2012 = df_2008_2012.groupby(['Community Area']).sum()\n",
    "\n",
    "# Drop unnecessary first row\n",
    "df_2008_2012.drop([0], inplace=True)\n",
    "\n",
    "\n",
    "\n",
    "# Join Dataframes\n",
    "df_2008_2012 = df_2008_2012.join(df_income, how='outer')\n",
    "df_2008_2012.columns\n",
    "\n",
    "# Rename column (to remove space)\n",
    "df_2008_2012.rename(columns={\"PER CAPITA INCOME \": \"PER CAPITA INCOME\"}, inplace=True)\"\"\""
   ]
  },
  {
   "cell_type": "code",
   "execution_count": 14,
   "metadata": {},
   "outputs": [],
   "source": [
    "# Groupby Crime Type & Community area\n",
    "df_2008_2012_crime={}\n",
    "\n",
    "for crime_type in list(set(df_2008_2012['Primary Type'])):\n",
    "    df_2008_2012_crime.update({crime_type:df_2008_2012[df_2008_2012['Primary Type']==crime_type].groupby(['Community Area']).sum()})\n",
    "    df_2008_2012_crime[crime_type]=df_2008_2012_crime[crime_type].join(df_income,how='outer')\n",
    "    df_2008_2012_crime[crime_type].rename(columns={'Num Crimes':'NUM',\"PER CAPITA INCOME \":'INCOME',\"HARDSHIP INDEX\":\"HARDSHIP_INDEX\"}, inplace=True)\n",
    "    df_2008_2012_crime[crime_type]=df_2008_2012_crime[crime_type].join(pd.DataFrame({'INCOME10':np.log10(df_2008_2012_crime[crime_type]['INCOME'])}))\n",
    "    df_2008_2012_crime[crime_type].dropna(inplace=True)\n",
    "    \n",
    "    \n",
    "for crime_type in list(set(df_2008_2012['Primary Type'])):\n",
    "    try: \n",
    "        df_2008_2012_crime[crime_type].drop([0], inplace=True)\n",
    "    except:\n",
    "        pass\n",
    "    "
   ]
  },
  {
   "cell_type": "code",
   "execution_count": 5,
   "metadata": {},
   "outputs": [],
   "source": [
    "#Groupby All Data \n",
    "# Group by community area\n",
    "df_2008_2012_all = df_2008_2012.groupby(['Community Area']).sum()\n",
    "\n",
    "# Drop unnecessary first row\n",
    "df_2008_2012_all.drop([0], inplace=True)\n",
    "\n",
    "# Join Dataframes\n",
    "df_2008_2012_all = df_2008_2012_all.join(df_income, how='outer')\n",
    "\n",
    "df_2008_2012_all.rename(columns={'Num Crimes':'NUM',\"PER CAPITA INCOME \":'INCOME',\"HARDSHIP INDEX\":\"HARDSHIP_INDEX\"}, inplace=True)\n",
    "\n",
    "df_2008_2012_all=df_2008_2012_all.join(pd.DataFrame({'INCOME10':np.log10(df_2008_2012_all['INCOME'])}))\n",
    "\n",
    "df_2008_2012_all.dropna(inplace=True)\n",
    "  "
   ]
  },
  {
   "cell_type": "code",
   "execution_count": 6,
   "metadata": {
    "scrolled": false
   },
   "outputs": [],
   "source": [
    "import patsy\n",
    "import statsmodels.api as sm"
   ]
  },
  {
   "cell_type": "code",
   "execution_count": 8,
   "metadata": {},
   "outputs": [],
   "source": [
    "a,b,c=np.polyfit(df_2008_2012_all['INCOME'],df_2008_2012_all['NUM'], 2)"
   ]
  },
  {
   "cell_type": "code",
   "execution_count": 10,
   "metadata": {
    "scrolled": true
   },
   "outputs": [
    {
     "data": {
      "text/plain": [
       "[<matplotlib.lines.Line2D at 0x145cf2b38>]"
      ]
     },
     "execution_count": 10,
     "metadata": {},
     "output_type": "execute_result"
    },
    {
     "data": {
      "image/png": "[encoded data removed]",
      "text/plain": [
       "<Figure size 432x288 with 1 Axes>"
      ]
     },
     "metadata": {
      "needs_background": "light"
     },
     "output_type": "display_data"
    }
   ],
   "source": [
    "plt.scatter(df_2008_2012_all['INCOME'],df_2008_2012_all['NUM'])\n",
    "xs = np.arange(df_2008_2012_all['INCOME'].min(), df_2008_2012_all['INCOME'].max())\n",
    "ys = a * (xs**2) + b*xs+c\n",
    "plt.plot(xs, ys, '--k', linewidth=4, label='Model')"
   ]
  },
  {
   "cell_type": "raw",
   "metadata": {},
   "source": [
    "list(set(df_2008_2012['Primary Type']))"
   ]
  },
  {
   "cell_type": "code",
   "execution_count": 33,
   "metadata": {},
   "outputs": [
    {
     "data": {
      "image/png": "[encoded data removed]",
      "text/plain": [
       "<Figure size 432x288 with 1 Axes>"
      ]
     },
     "metadata": {
      "needs_background": "light"
     },
     "output_type": "display_data"
    }
   ],
   "source": [
    "\n",
    "# Plot the orginal data (as before)\n",
    "plt.scatter(df_2008_2012_crime['THEFT']['INCOME'], df_2008_2012_crime['THEFT']['NUM'], alpha=0.3, label='Data', s=100);\n",
    "\n",
    "# Generate and plot the model fit line\n",
    "xs = np.arange(df_2008_2012_crime['THEFT']['INCOME'].min(), df_2008_2012_crime['THEFT']['INCOME'].max())\n",
    "ys =0.2748  * xs +  1092.4920  \n",
    "plt.plot(xs, ys, '--k', linewidth=4, label='Model')\n",
    "\n",
    "plt.xlabel('INCOME')\n",
    "plt.ylabel('NUM OF CRIME')\n",
    "plt.legend();"
   ]
  },
  {
   "cell_type": "code",
   "execution_count": 32,
   "metadata": {},
   "outputs": [
    {
     "name": "stdout",
     "output_type": "stream",
     "text": [
      "                            OLS Regression Results                            \n",
      "==============================================================================\n",
      "Dep. Variable:                    NUM   R-squared:                       0.288\n",
      "Model:                            OLS   Adj. R-squared:                  0.278\n",
      "Method:                 Least Squares   F-statistic:                     30.32\n",
      "Date:                Tue, 14 May 2019   Prob (F-statistic):           4.92e-07\n",
      "Time:                        17:47:05   Log-Likelihood:                -786.06\n",
      "No. Observations:                  77   AIC:                             1576.\n",
      "Df Residuals:                      75   BIC:                             1581.\n",
      "Df Model:                           1                                         \n",
      "Covariance Type:            nonrobust                                         \n",
      "==============================================================================\n",
      "                 coef    std err          t      P>|t|      [0.025      0.975]\n",
      "------------------------------------------------------------------------------\n",
      "Intercept   1092.4920   1483.952      0.736      0.464   -1863.692    4048.676\n",
      "INCOME         0.2748      0.050      5.506      0.000       0.175       0.374\n",
      "==============================================================================\n",
      "Omnibus:                       10.170   Durbin-Watson:                   1.496\n",
      "Prob(Omnibus):                  0.006   Jarque-Bera (JB):               10.039\n",
      "Skew:                           0.810   Prob(JB):                      0.00661\n",
      "Kurtosis:                       3.710   Cond. No.                     5.82e+04\n",
      "==============================================================================\n",
      "\n",
      "Warnings:\n",
      "[1] Standard Errors assume that the covariance matrix of the errors is correctly specified.\n",
      "[2] The condition number is large, 5.82e+04. This might indicate that there are\n",
      "strong multicollinearity or other numerical problems.\n"
     ]
    }
   ],
   "source": [
    "outcome, predictors = patsy.dmatrices('NUM ~ INCOME', df_2008_2012_crime['THEFT'])\n",
    "mod = sm.OLS(outcome, predictors)\n",
    "res = mod.fit()\n",
    "\n",
    "## look at the results\n",
    "print(res.summary())"
   ]
  },
  {
   "cell_type": "code",
   "execution_count": null,
   "metadata": {},
   "outputs": [],
   "source": [
    "Crime_R_Square={}"
   ]
  },
  {
   "cell_type": "code",
   "execution_count": null,
   "metadata": {},
   "outputs": [],
   "source": [
    "outcome, predictors = patsy.dmatrices('Num ~ Income10', df_2008_2012)\n",
    "mod = sm.OLS(outcome, predictors)\n",
    "res = mod.fit()\n",
    "\n",
    "## look at the results\n",
    "print(res.summary())"
   ]
  },
  {
   "cell_type": "code",
   "execution_count": null,
   "metadata": {},
   "outputs": [],
   "source": []
  }
 ],
 "metadata": {
  "kernelspec": {
   "display_name": "Python 3",
   "language": "python",
   "name": "python3"
  },
  "language_info": {
   "codemirror_mode": {
    "name": "ipython",
    "version": 3
   },
   "file_extension": ".py",
   "mimetype": "text/x-python",
   "name": "python",
   "nbconvert_exporter": "python",
   "pygments_lexer": "ipython3",
   "version": "3.7.3"
  }
 },
 "nbformat": 4,
 "nbformat_minor": 2
}
