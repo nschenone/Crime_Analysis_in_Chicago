{
 "cells": [
  {
   "cell_type": "markdown",
   "metadata": {},
   "source": [
    "# Crime Analysis in Chicago (2001 vs. 2018)"
   ]
  },
  {
   "cell_type": "markdown",
   "metadata": {},
   "source": [
    "## Descriptive Data Analysis"
   ]
  },
  {
   "cell_type": "markdown",
   "metadata": {},
   "source": [
    "### Setup"
   ]
  },
  {
   "cell_type": "code",
   "execution_count": 2,
   "metadata": {},
   "outputs": [],
   "source": [
    "# Imports\n",
    "import numpy as np\n",
    "import pandas as pd\n",
    "pd.set_option('display.max_columns', 500)\n",
    "import matplotlib.pyplot as plt\n",
    "plt.rcParams['figure.figsize'] = (30, 15) #increase figure size"
   ]
  },
  {
   "cell_type": "code",
   "execution_count": 3,
   "metadata": {},
   "outputs": [
    {
     "ename": "KeyboardInterrupt",
     "evalue": "",
     "output_type": "error",
     "traceback": [
      "\u001b[0;31m---------------------------------------------------------------------------\u001b[0m",
      "\u001b[0;31mKeyboardInterrupt\u001b[0m                         Traceback (most recent call last)",
      "\u001b[0;32m<ipython-input-3-987a48a8ae3c>\u001b[0m in \u001b[0;36m<module>\u001b[0;34m\u001b[0m\n\u001b[1;32m      4\u001b[0m \u001b[0mdf_2003\u001b[0m\u001b[0;34m.\u001b[0m\u001b[0myear\u001b[0m \u001b[0;34m=\u001b[0m \u001b[0;34m\"2003\"\u001b[0m\u001b[0;34m\u001b[0m\u001b[0;34m\u001b[0m\u001b[0m\n\u001b[1;32m      5\u001b[0m \u001b[0;34m\u001b[0m\u001b[0m\n\u001b[0;32m----> 6\u001b[0;31m \u001b[0mdf_2007\u001b[0m \u001b[0;34m=\u001b[0m \u001b[0mpd\u001b[0m\u001b[0;34m.\u001b[0m\u001b[0mread_csv\u001b[0m\u001b[0;34m(\u001b[0m\u001b[0;34m\"data/crime_2007.csv\"\u001b[0m\u001b[0;34m)\u001b[0m\u001b[0;34m\u001b[0m\u001b[0;34m\u001b[0m\u001b[0m\n\u001b[0m\u001b[1;32m      7\u001b[0m \u001b[0mdf_2007\u001b[0m\u001b[0;34m.\u001b[0m\u001b[0mname\u001b[0m \u001b[0;34m=\u001b[0m \u001b[0;34m\"Crime in 2007\"\u001b[0m\u001b[0;34m\u001b[0m\u001b[0;34m\u001b[0m\u001b[0m\n\u001b[1;32m      8\u001b[0m \u001b[0mdf_2007\u001b[0m\u001b[0;34m.\u001b[0m\u001b[0myear\u001b[0m \u001b[0;34m=\u001b[0m \u001b[0;34m\"2007\"\u001b[0m\u001b[0;34m\u001b[0m\u001b[0;34m\u001b[0m\u001b[0m\n",
      "\u001b[0;32m~/anaconda3/lib/python3.7/site-packages/pandas/io/parsers.py\u001b[0m in \u001b[0;36mparser_f\u001b[0;34m(filepath_or_buffer, sep, delimiter, header, names, index_col, usecols, squeeze, prefix, mangle_dupe_cols, dtype, engine, converters, true_values, false_values, skipinitialspace, skiprows, skipfooter, nrows, na_values, keep_default_na, na_filter, verbose, skip_blank_lines, parse_dates, infer_datetime_format, keep_date_col, date_parser, dayfirst, iterator, chunksize, compression, thousands, decimal, lineterminator, quotechar, quoting, doublequote, escapechar, comment, encoding, dialect, tupleize_cols, error_bad_lines, warn_bad_lines, delim_whitespace, low_memory, memory_map, float_precision)\u001b[0m\n\u001b[1;32m    700\u001b[0m                     skip_blank_lines=skip_blank_lines)\n\u001b[1;32m    701\u001b[0m \u001b[0;34m\u001b[0m\u001b[0m\n\u001b[0;32m--> 702\u001b[0;31m         \u001b[0;32mreturn\u001b[0m \u001b[0m_read\u001b[0m\u001b[0;34m(\u001b[0m\u001b[0mfilepath_or_buffer\u001b[0m\u001b[0;34m,\u001b[0m \u001b[0mkwds\u001b[0m\u001b[0;34m)\u001b[0m\u001b[0;34m\u001b[0m\u001b[0;34m\u001b[0m\u001b[0m\n\u001b[0m\u001b[1;32m    703\u001b[0m \u001b[0;34m\u001b[0m\u001b[0m\n\u001b[1;32m    704\u001b[0m     \u001b[0mparser_f\u001b[0m\u001b[0;34m.\u001b[0m\u001b[0m__name__\u001b[0m \u001b[0;34m=\u001b[0m \u001b[0mname\u001b[0m\u001b[0;34m\u001b[0m\u001b[0;34m\u001b[0m\u001b[0m\n",
      "\u001b[0;32m~/anaconda3/lib/python3.7/site-packages/pandas/io/parsers.py\u001b[0m in \u001b[0;36m_read\u001b[0;34m(filepath_or_buffer, kwds)\u001b[0m\n\u001b[1;32m    433\u001b[0m \u001b[0;34m\u001b[0m\u001b[0m\n\u001b[1;32m    434\u001b[0m     \u001b[0;32mtry\u001b[0m\u001b[0;34m:\u001b[0m\u001b[0;34m\u001b[0m\u001b[0;34m\u001b[0m\u001b[0m\n\u001b[0;32m--> 435\u001b[0;31m         \u001b[0mdata\u001b[0m \u001b[0;34m=\u001b[0m \u001b[0mparser\u001b[0m\u001b[0;34m.\u001b[0m\u001b[0mread\u001b[0m\u001b[0;34m(\u001b[0m\u001b[0mnrows\u001b[0m\u001b[0;34m)\u001b[0m\u001b[0;34m\u001b[0m\u001b[0;34m\u001b[0m\u001b[0m\n\u001b[0m\u001b[1;32m    436\u001b[0m     \u001b[0;32mfinally\u001b[0m\u001b[0;34m:\u001b[0m\u001b[0;34m\u001b[0m\u001b[0;34m\u001b[0m\u001b[0m\n\u001b[1;32m    437\u001b[0m         \u001b[0mparser\u001b[0m\u001b[0;34m.\u001b[0m\u001b[0mclose\u001b[0m\u001b[0;34m(\u001b[0m\u001b[0;34m)\u001b[0m\u001b[0;34m\u001b[0m\u001b[0;34m\u001b[0m\u001b[0m\n",
      "\u001b[0;32m~/anaconda3/lib/python3.7/site-packages/pandas/io/parsers.py\u001b[0m in \u001b[0;36mread\u001b[0;34m(self, nrows)\u001b[0m\n\u001b[1;32m   1137\u001b[0m     \u001b[0;32mdef\u001b[0m \u001b[0mread\u001b[0m\u001b[0;34m(\u001b[0m\u001b[0mself\u001b[0m\u001b[0;34m,\u001b[0m \u001b[0mnrows\u001b[0m\u001b[0;34m=\u001b[0m\u001b[0;32mNone\u001b[0m\u001b[0;34m)\u001b[0m\u001b[0;34m:\u001b[0m\u001b[0;34m\u001b[0m\u001b[0;34m\u001b[0m\u001b[0m\n\u001b[1;32m   1138\u001b[0m         \u001b[0mnrows\u001b[0m \u001b[0;34m=\u001b[0m \u001b[0m_validate_integer\u001b[0m\u001b[0;34m(\u001b[0m\u001b[0;34m'nrows'\u001b[0m\u001b[0;34m,\u001b[0m \u001b[0mnrows\u001b[0m\u001b[0;34m)\u001b[0m\u001b[0;34m\u001b[0m\u001b[0;34m\u001b[0m\u001b[0m\n\u001b[0;32m-> 1139\u001b[0;31m         \u001b[0mret\u001b[0m \u001b[0;34m=\u001b[0m \u001b[0mself\u001b[0m\u001b[0;34m.\u001b[0m\u001b[0m_engine\u001b[0m\u001b[0;34m.\u001b[0m\u001b[0mread\u001b[0m\u001b[0;34m(\u001b[0m\u001b[0mnrows\u001b[0m\u001b[0;34m)\u001b[0m\u001b[0;34m\u001b[0m\u001b[0;34m\u001b[0m\u001b[0m\n\u001b[0m\u001b[1;32m   1140\u001b[0m \u001b[0;34m\u001b[0m\u001b[0m\n\u001b[1;32m   1141\u001b[0m         \u001b[0;31m# May alter columns / col_dict\u001b[0m\u001b[0;34m\u001b[0m\u001b[0;34m\u001b[0m\u001b[0;34m\u001b[0m\u001b[0m\n",
      "\u001b[0;32m~/anaconda3/lib/python3.7/site-packages/pandas/io/parsers.py\u001b[0m in \u001b[0;36mread\u001b[0;34m(self, nrows)\u001b[0m\n\u001b[1;32m   1993\u001b[0m     \u001b[0;32mdef\u001b[0m \u001b[0mread\u001b[0m\u001b[0;34m(\u001b[0m\u001b[0mself\u001b[0m\u001b[0;34m,\u001b[0m \u001b[0mnrows\u001b[0m\u001b[0;34m=\u001b[0m\u001b[0;32mNone\u001b[0m\u001b[0;34m)\u001b[0m\u001b[0;34m:\u001b[0m\u001b[0;34m\u001b[0m\u001b[0;34m\u001b[0m\u001b[0m\n\u001b[1;32m   1994\u001b[0m         \u001b[0;32mtry\u001b[0m\u001b[0;34m:\u001b[0m\u001b[0;34m\u001b[0m\u001b[0;34m\u001b[0m\u001b[0m\n\u001b[0;32m-> 1995\u001b[0;31m             \u001b[0mdata\u001b[0m \u001b[0;34m=\u001b[0m \u001b[0mself\u001b[0m\u001b[0;34m.\u001b[0m\u001b[0m_reader\u001b[0m\u001b[0;34m.\u001b[0m\u001b[0mread\u001b[0m\u001b[0;34m(\u001b[0m\u001b[0mnrows\u001b[0m\u001b[0;34m)\u001b[0m\u001b[0;34m\u001b[0m\u001b[0;34m\u001b[0m\u001b[0m\n\u001b[0m\u001b[1;32m   1996\u001b[0m         \u001b[0;32mexcept\u001b[0m \u001b[0mStopIteration\u001b[0m\u001b[0;34m:\u001b[0m\u001b[0;34m\u001b[0m\u001b[0;34m\u001b[0m\u001b[0m\n\u001b[1;32m   1997\u001b[0m             \u001b[0;32mif\u001b[0m \u001b[0mself\u001b[0m\u001b[0;34m.\u001b[0m\u001b[0m_first_chunk\u001b[0m\u001b[0;34m:\u001b[0m\u001b[0;34m\u001b[0m\u001b[0;34m\u001b[0m\u001b[0m\n",
      "\u001b[0;32mpandas/_libs/parsers.pyx\u001b[0m in \u001b[0;36mpandas._libs.parsers.TextReader.read\u001b[0;34m()\u001b[0m\n",
      "\u001b[0;32mpandas/_libs/parsers.pyx\u001b[0m in \u001b[0;36mpandas._libs.parsers.TextReader._read_low_memory\u001b[0;34m()\u001b[0m\n",
      "\u001b[0;32mpandas/_libs/parsers.pyx\u001b[0m in \u001b[0;36mpandas._libs.parsers.TextReader._read_rows\u001b[0;34m()\u001b[0m\n",
      "\u001b[0;32mpandas/_libs/parsers.pyx\u001b[0m in \u001b[0;36mpandas._libs.parsers.TextReader._convert_column_data\u001b[0;34m()\u001b[0m\n",
      "\u001b[0;32mpandas/_libs/parsers.pyx\u001b[0m in \u001b[0;36mpandas._libs.parsers.TextReader._convert_tokens\u001b[0;34m()\u001b[0m\n",
      "\u001b[0;32mpandas/_libs/parsers.pyx\u001b[0m in \u001b[0;36mpandas._libs.parsers.TextReader._convert_with_dtype\u001b[0;34m()\u001b[0m\n",
      "\u001b[0;32m~/anaconda3/lib/python3.7/site-packages/pandas/core/dtypes/common.py\u001b[0m in \u001b[0;36mis_categorical_dtype\u001b[0;34m(arr_or_dtype)\u001b[0m\n\u001b[1;32m    570\u001b[0m \u001b[0;34m\u001b[0m\u001b[0m\n\u001b[1;32m    571\u001b[0m \u001b[0;34m\u001b[0m\u001b[0m\n\u001b[0;32m--> 572\u001b[0;31m \u001b[0;32mdef\u001b[0m \u001b[0mis_categorical_dtype\u001b[0m\u001b[0;34m(\u001b[0m\u001b[0marr_or_dtype\u001b[0m\u001b[0;34m)\u001b[0m\u001b[0;34m:\u001b[0m\u001b[0;34m\u001b[0m\u001b[0;34m\u001b[0m\u001b[0m\n\u001b[0m\u001b[1;32m    573\u001b[0m     \"\"\"\n\u001b[1;32m    574\u001b[0m     \u001b[0mCheck\u001b[0m \u001b[0mwhether\u001b[0m \u001b[0man\u001b[0m \u001b[0marray\u001b[0m\u001b[0;34m-\u001b[0m\u001b[0mlike\u001b[0m \u001b[0;32mor\u001b[0m \u001b[0mdtype\u001b[0m \u001b[0;32mis\u001b[0m \u001b[0mof\u001b[0m \u001b[0mthe\u001b[0m \u001b[0mCategorical\u001b[0m \u001b[0mdtype\u001b[0m\u001b[0;34m.\u001b[0m\u001b[0;34m\u001b[0m\u001b[0;34m\u001b[0m\u001b[0m\n",
      "\u001b[0;31mKeyboardInterrupt\u001b[0m: "
     ]
    }
   ],
   "source": [
    "# Load all datasets\n",
    "df_2003 = pd.read_csv(\"data/crime_2003.csv\")\n",
    "df_2003.name = \"Crime in 2003\"\n",
    "df_2003.year = \"2003\"\n",
    "\n",
    "df_2007 = pd.read_csv(\"data/crime_2007.csv\")\n",
    "df_2007.name = \"Crime in 2007\"\n",
    "df_2007.year = \"2007\"\n",
    "\n",
    "df_2016 = pd.read_csv(\"data/crime_2016.csv\")\n",
    "df_2016.name = \"Crime in 2016\"\n",
    "df_2016.year = \"2016\"\n",
    "\n",
    "datasets = [df_2003,\n",
    "            df_2007,\n",
    "            df_2016]\n",
    "\n",
    "df_2008 = pd.read_csv(\"data/crime_2008.csv\")\n",
    "df_2008.name = \"Crime in 2008\"\n",
    "df_2008.year = \"2008\"\n",
    "\n",
    "df_2009 = pd.read_csv(\"data/crime_2009.csv\")\n",
    "df_2009.name = \"Crime in 2009\"\n",
    "df_2009.year = \"2009\"\n",
    "\n",
    "df_2010 = pd.read_csv(\"data/crime_2010.csv\")\n",
    "df_2010.name = \"Crime in 2010\"\n",
    "df_2010.year = \"2010\"\n",
    "\n",
    "df_2011 = pd.read_csv(\"data/crime_2011.csv\")\n",
    "df_2011.name = \"Crime in 2011\"\n",
    "df_2011.year = \"2011\"\n",
    "\n",
    "df_2012 = pd.read_csv(\"data/crime_2012.csv\")\n",
    "df_2012.name = \"Crime in 2012\"\n",
    "df_2012.year = \"2012\"\n",
    "\n",
    "\n",
    "datasets_by_area = [df_2008,\n",
    "                    df_2009,\n",
    "                    df_2010,\n",
    "                    df_2011,\n",
    "                    df_2012]"
   ]
  },
  {
   "cell_type": "markdown",
   "metadata": {},
   "source": [
    "### Size"
   ]
  },
  {
   "cell_type": "code",
   "execution_count": null,
   "metadata": {
    "scrolled": true
   },
   "outputs": [],
   "source": [
    "for dataset in datasets:\n",
    "    print(\"Dataset: {}, Shape: {}\".format(dataset.name, dataset.shape))\n",
    "    print(\"test\")"
   ]
  },
  {
   "cell_type": "markdown",
   "metadata": {},
   "source": [
    "### Missingness"
   ]
  },
  {
   "cell_type": "code",
   "execution_count": null,
   "metadata": {
    "scrolled": true
   },
   "outputs": [],
   "source": [
    "for dataset in datasets:\n",
    "    print(\"Dataset: {}\".format(dataset.name))\n",
    "    print(dataset.isnull().sum())\n",
    "    print('\\n')"
   ]
  },
  {
   "cell_type": "markdown",
   "metadata": {},
   "source": [
    "### Remove rows with missing values"
   ]
  },
  {
   "cell_type": "code",
   "execution_count": null,
   "metadata": {},
   "outputs": [],
   "source": [
    "for dataset in datasets:\n",
    "    dataset.dropna(inplace=True)\n",
    "    \n",
    "for dataset in datasets_by_area:\n",
    "    dataset.dropna(inplace=True)"
   ]
  },
  {
   "cell_type": "code",
   "execution_count": null,
   "metadata": {},
   "outputs": [],
   "source": [
    "for dataset in datasets:\n",
    "    dataset.drop(columns=['ID', 'Case Number', 'Block', 'IUCR', 'Beat', 'Ward', 'FBI Code', 'Updated On', 'Latitude', 'Longitude'], axis=1, inplace=True)\n",
    "\n",
    "for dataset in datasets_by_area:\n",
    "    dataset.drop(columns=['ID', 'Case Number', 'Block', 'IUCR', 'Beat', 'Ward', 'FBI Code', 'Updated On', 'Latitude', 'Longitude'], axis=1, inplace=True)"
   ]
  },
  {
   "cell_type": "markdown",
   "metadata": {},
   "source": [
    "### Number of crimes per year"
   ]
  },
  {
   "cell_type": "code",
   "execution_count": null,
   "metadata": {},
   "outputs": [],
   "source": [
    "years = []\n",
    "data_len = []\n",
    "for dataset in datasets:\n",
    "    years.append(dataset.year)\n",
    "    data_len.append(len(dataset))\n",
    "\n",
    "df_num = pd.DataFrame({'Year': years,'Num Crimes': data_len}).set_index('Year')\n",
    "df_num.plot(kind='bar', rot=0);"
   ]
  },
  {
   "cell_type": "code",
   "execution_count": null,
   "metadata": {},
   "outputs": [],
   "source": [
    "print(\"this is a test - github pls work\")"
   ]
  },
  {
   "cell_type": "markdown",
   "metadata": {},
   "source": [
    "### Crime per community area (2003, 2007, 2016)"
   ]
  },
  {
   "cell_type": "code",
   "execution_count": null,
   "metadata": {},
   "outputs": [],
   "source": [
    "df_areas = pd.DataFrame()\n",
    "df_areas['2003'] = df_2003['Community Area'].value_counts()\n",
    "df_areas['2007'] = df_2007['Community Area'].value_counts()\n",
    "df_areas['2016'] = df_2016['Community Area'].value_counts()\n",
    "df_areas.plot(kind='bar', rot=90);"
   ]
  },
  {
   "cell_type": "markdown",
   "metadata": {},
   "source": [
    "## Latitude & Longtitude"
   ]
  },
  {
   "cell_type": "code",
   "execution_count": null,
   "metadata": {},
   "outputs": [],
   "source": [
    "import descartes\n",
    "import geopandas as gpd\n",
    "from shapely.geometry import Point, Polygon"
   ]
  },
  {
   "cell_type": "code",
   "execution_count": null,
   "metadata": {},
   "outputs": [],
   "source": [
    "crs={'init':'epsg:4326'}\n",
    "\n",
    "# zip the Longtitude and Latitude together. Each point represents a row in Data frame\n",
    "Geo_2003= [Point(xy) for xy in zip (df_2003[\"X Coordinate\"],df_2003[\"Y Coordinate\"])]\n",
    "Geo_2007= [Point(xy) for xy in zip (df_2007[\"X Coordinate\"],df_2007[\"Y Coordinate\"])]\n",
    "Geo_2016= [Point(xy) for xy in zip (df_2016[\"X Coordinate\"],df_2016[\"Y Coordinate\"])]\n",
    "\n",
    "Geo_df_2003= gpd.GeoDataFrame(df_2003,crs=crs,geometry=Geo_2003)\n",
    "Geo_df_2007= gpd.GeoDataFrame(df_2007,crs=crs,geometry=Geo_2007)\n",
    "Geo_df_2016= gpd.GeoDataFrame(df_2016,crs=crs,geometry=Geo_2016)"
   ]
  },
  {
   "cell_type": "code",
   "execution_count": null,
   "metadata": {},
   "outputs": [],
   "source": [
    "fig,ax= plt.subplots(figsize=(8,8))\n",
    "Geo_df_2003.plot(ax=ax,markersize=0.25)\n",
    "ax.set_title('Crimes happened in Chicago in 2003')"
   ]
  },
  {
   "cell_type": "code",
   "execution_count": null,
   "metadata": {},
   "outputs": [],
   "source": [
    "fig,ax= plt.subplots(figsize=(8,8))\n",
    "Geo_df_2007.plot(ax=ax,markersize=0.25)\n",
    "ax.set_title('Crimes happened in Chicago in 2007')\n",
    "plt.show()"
   ]
  },
  {
   "cell_type": "code",
   "execution_count": null,
   "metadata": {},
   "outputs": [],
   "source": [
    "fig,ax= plt.subplots(figsize=(8,8))\n",
    "Geo_df_2016.plot(ax=ax,markersize=0.25)\n",
    "ax.set_title('Crimes happened in Chicago in 2016')\n",
    "plt.show()"
   ]
  },
  {
   "cell_type": "code",
   "execution_count": null,
   "metadata": {},
   "outputs": [],
   "source": [
    "## You can change Primary Type to see different types."
   ]
  },
  {
   "cell_type": "code",
   "execution_count": null,
   "metadata": {},
   "outputs": [],
   "source": [
    "fig,ax= plt.subplots(figsize=(8,8))\n",
    "Geo_df_2003[Geo_df_2003['Primary Type']=='THEFT'].plot(ax=ax,markersize=0.25)\n",
    "ax.set_title('Homicide happened in Chicago in 2003')"
   ]
  },
  {
   "cell_type": "code",
   "execution_count": null,
   "metadata": {},
   "outputs": [],
   "source": [
    "fig,ax= plt.subplots(figsize=(8,8))\n",
    "Geo_df_2007[Geo_df_2007['Primary Type']=='THEFT'].plot(ax=ax,markersize=0.25)\n",
    "ax.set_title('Homicide happened in Chicago in 2007')"
   ]
  },
  {
   "cell_type": "code",
   "execution_count": null,
   "metadata": {},
   "outputs": [],
   "source": [
    "fig,ax= plt.subplots(figsize=(8,8))\n",
    "Geo_df_2016[Geo_df_2016['Primary Type']=='THEFT'].plot(ax=ax,markersize=0.25)\n",
    "ax.set_title('Homicide happened in Chicago in 2016')"
   ]
  },
  {
   "cell_type": "markdown",
   "metadata": {},
   "source": [
    "## Choropleth "
   ]
  },
  {
   "cell_type": "code",
   "execution_count": null,
   "metadata": {
    "scrolled": false
   },
   "outputs": [],
   "source": [
    "fd='data/PoliceDistrict copy.shp'\n",
    "map_Chicago=gpd.read_file(fd)\n",
    "map_Chicago.drop(columns=['DIST_LABEL'],inplace=True)\n",
    "map_Chicago[\"DIST_NUM\"]=map_Chicago[\"DIST_NUM\"].apply(pd.to_numeric)\n",
    "\n",
    "district_2003=pd.DataFrame(df_2003['District'].value_counts())\n",
    "district_2007=pd.DataFrame(df_2007['District'].value_counts())\n",
    "district_2016=pd.DataFrame(df_2016['District'].value_counts())\n",
    "\n",
    "\n",
    "district_2003=district_2003.reset_index().rename(columns={'index':'DIST_NUM','District':'CRIME_NUM'})\n",
    "district_2007=district_2007.reset_index().rename(columns={'index':'DIST_NUM','District':'CRIME_NUM'})\n",
    "district_2016=district_2016.reset_index().rename(columns={'index':'DIST_NUM','District':'CRIME_NUM'})\n",
    "\n",
    "map_2003=map_Chicago.merge(district_2003,on='DIST_NUM')\n",
    "map_2007=map_Chicago.merge(district_2007,on='DIST_NUM')\n",
    "map_2016=map_Chicago.merge(district_2016,on='DIST_NUM')\n",
    "\n"
   ]
  },
  {
   "cell_type": "code",
   "execution_count": null,
   "metadata": {},
   "outputs": [],
   "source": [
    "SMALL_SIZE = 15\n",
    "MEDIUM_SIZE = 18\n",
    "BIGGER_SIZE = 22\n",
    "\n",
    "plt.rc('font', size=SMALL_SIZE)          # controls default text sizes\n",
    "plt.rc('axes', titlesize=SMALL_SIZE)     # fontsize of the axes title\n",
    "plt.rc('axes', labelsize=MEDIUM_SIZE)    # fontsize of the x and y labels\n",
    "plt.rc('xtick', labelsize=SMALL_SIZE)    # fontsize of the tick labels\n",
    "plt.rc('ytick', labelsize=SMALL_SIZE)    # fontsize of the tick labels\n",
    "plt.rc('legend', fontsize=SMALL_SIZE)    # legend fontsize\n",
    "plt.rc('figure', titlesize=BIGGER_SIZE)  # fontsize of the figure title\n",
    "\n",
    "plt.rcParams['figure.figsize'] = (25, 10) #increase figure size"
   ]
  },
  {
   "cell_type": "code",
   "execution_count": null,
   "metadata": {},
   "outputs": [],
   "source": [
    "fig, axs = plt.subplots(1,3)\n",
    "\n",
    "sm = plt.cm.ScalarMappable(cmap='Greens')\n",
    "sm._A = []\n",
    "cbar = fig.colorbar(sm)\n",
    "ax.axis('off')\n",
    "ax.set_title('Crime happened in Chicago in 2003')\n",
    "\n",
    "\n",
    "map_2003.plot(column=\"DIST_NUM\", cmap='Greens', linewidth=0.8, ax=axs[0], edgecolor='0.6')\n",
    "map_2007.plot(column=\"DIST_NUM\", cmap='Greens', linewidth=0.8, ax=axs[1], edgecolor='0.6')\n",
    "map_2016.plot(column=\"DIST_NUM\", cmap='Greens', linewidth=0.8, ax=axs[2], edgecolor='0.6')\n"
   ]
  },
  {
   "cell_type": "markdown",
   "metadata": {},
   "source": [
    "## Get Data"
   ]
  },
  {
   "cell_type": "code",
   "execution_count": 4,
   "metadata": {},
   "outputs": [],
   "source": [
    "df_2003 = pd.read_pickle(\"./data/crime_2003.pkl\")\n",
    "df_2003.name = \"Crime in 2003\"\n",
    "df_2003.year = \"2003\"\n",
    "\n",
    "df_2007 = pd.read_pickle(\"./data/crime_2007.pkl\")\n",
    "df_2007.name = \"Crime in 2007\"\n",
    "df_2007.year = \"2007\"\n",
    "\n",
    "df_2016 = pd.read_pickle(\"./data/crime_2016.pkl\")\n",
    "df_2016.name = \"Crime in 2016\"\n",
    "df_2016.year = \"2016\"\n",
    "\n",
    "datasets = [df_2003,\n",
    "            df_2007,\n",
    "            df_2016]\n",
    "\n",
    "df_2008 = pd.read_pickle(\"./data/crime_2008.pkl\")\n",
    "df_2008.name = \"Crime in 2008\"\n",
    "df_2008.year = \"2008\"\n",
    "\n",
    "df_2009 = pd.read_pickle(\"./data/crime_2009.pkl\")\n",
    "df_2009.name = \"Crime in 2009\"\n",
    "df_2009.year = \"2009\"\n",
    "\n",
    "df_2010 = pd.read_pickle(\"./data/crime_2010.pkl\")\n",
    "df_2010.name = \"Crime in 2010\"\n",
    "df_2010.year = \"2010\"\n",
    "\n",
    "df_2011 = pd.read_pickle(\"./data/crime_2011.pkl\")\n",
    "df_2011.name = \"Crime in 2011\"\n",
    "df_2011.year = \"2011\"\n",
    "\n",
    "df_2012 = pd.read_pickle(\"./data/crime_2012.pkl\")\n",
    "df_2012.name = \"Crime in 2012\"\n",
    "df_2012.year = \"2012\"\n",
    "\n",
    "datasets_by_area = [df_2008,\n",
    "                    df_2009,\n",
    "                    df_2010,\n",
    "                    df_2011,\n",
    "                    df_2012]"
   ]
  },
  {
   "cell_type": "code",
   "execution_count": null,
   "metadata": {},
   "outputs": [],
   "source": []
  },
  {
   "cell_type": "code",
   "execution_count": 5,
   "metadata": {
    "scrolled": false
   },
   "outputs": [
    {
     "data": {
      "text/plain": [
       "'\\n# Group by community area\\ndf_2008_2012 = df_2008_2012.groupby([\\'Community Area\\']).sum()\\n\\n# Drop unnecessary first row\\ndf_2008_2012.drop([0], inplace=True)\\n\\n\\n\\n# Join Dataframes\\ndf_2008_2012 = df_2008_2012.join(df_income, how=\\'outer\\')\\ndf_2008_2012.columns\\n\\n# Rename column (to remove space)\\ndf_2008_2012.rename(columns={\"PER CAPITA INCOME \": \"PER CAPITA INCOME\"}, inplace=True)'"
      ]
     },
     "execution_count": 5,
     "metadata": {},
     "output_type": "execute_result"
    }
   ],
   "source": [
    "# Combine datasets\n",
    "df_2008_2012 = pd.concat(datasets_by_area)\n",
    "\n",
    "# Get count of number of crimes\n",
    "df_2008_2012['Num Crimes'] = 1\n",
    "\n",
    "# Drop unnecessary columns\n",
    "df_2008_2012.drop(columns=['Arrest', 'Domestic', 'District', 'X Coordinate', 'Y Coordinate', 'Year'], axis=1, inplace=True)\n",
    "\n",
    "# Read in income data\n",
    "df_income = pd.read_csv(\"./data/Per_Capita_Income.csv\", index_col=0)\n",
    "df_income.index.names = ['Community Area']\n",
    "\"\"\"\n",
    "# Group by community area\n",
    "df_2008_2012 = df_2008_2012.groupby(['Community Area']).sum()\n",
    "\n",
    "# Drop unnecessary first row\n",
    "df_2008_2012.drop([0], inplace=True)\n",
    "\n",
    "\n",
    "\n",
    "# Join Dataframes\n",
    "df_2008_2012 = df_2008_2012.join(df_income, how='outer')\n",
    "df_2008_2012.columns\n",
    "\n",
    "# Rename column (to remove space)\n",
    "df_2008_2012.rename(columns={\"PER CAPITA INCOME \": \"PER CAPITA INCOME\"}, inplace=True)\"\"\""
   ]
  },
  {
   "cell_type": "code",
   "execution_count": 6,
   "metadata": {},
   "outputs": [],
   "source": [
    "# Groupby Crime Type & Community area\n",
    "df_2008_2012_crime={}\n",
    "\n",
    "for crime_type in list(set(df_2008_2012['Primary Type'])):\n",
    "    df_2008_2012_crime.update({crime_type:df_2008_2012[df_2008_2012['Primary Type']==crime_type].groupby(['Community Area']).sum()})\n",
    "    df_2008_2012_crime[crime_type]=df_2008_2012_crime[crime_type].join(df_income,how='outer')\n",
    "    df_2008_2012_crime[crime_type].rename(columns={'Num Crimes':'NUM',\"PER CAPITA INCOME \":'INCOME',\"HARDSHIP INDEX\":\"HARDSHIP_INDEX\"}, inplace=True)\n",
    "    df_2008_2012_crime[crime_type]=df_2008_2012_crime[crime_type].join(pd.DataFrame({'INCOME10':np.log10(df_2008_2012_crime[crime_type]['INCOME'])}))\n",
    "    df_2008_2012_crime[crime_type].dropna(inplace=True)\n",
    "    \n",
    "    \n",
    "for crime_type in list(set(df_2008_2012['Primary Type'])):\n",
    "    try: \n",
    "        df_2008_2012_crime[crime_type].drop([0], inplace=True)\n",
    "    except:\n",
    "        pass\n",
    "    "
   ]
  },
  {
   "cell_type": "code",
   "execution_count": 7,
   "metadata": {},
   "outputs": [],
   "source": [
    "#Groupby All Data \n",
    "# Group by community area\n",
    "df_2008_2012_all = df_2008_2012.groupby(['Community Area']).sum()\n",
    "\n",
    "# Drop unnecessary first row\n",
    "df_2008_2012_all.drop([0], inplace=True)\n",
    "\n",
    "# Join Dataframes\n",
    "df_2008_2012_all = df_2008_2012_all.join(df_income, how='outer')\n",
    "\n",
    "df_2008_2012_all.rename(columns={'Num Crimes':'NUM',\"PER CAPITA INCOME \":'INCOME',\"HARDSHIP INDEX\":\"HARDSHIP_INDEX\"}, inplace=True)\n",
    "\n",
    "df_2008_2012_all=df_2008_2012_all.join(pd.DataFrame({'INCOME10':np.log10(df_2008_2012_all['INCOME'])}))\n",
    "\n",
    "df_2008_2012_all.dropna(inplace=True)\n",
    "  "
   ]
  },
  {
   "cell_type": "code",
   "execution_count": 8,
   "metadata": {
    "scrolled": false
   },
   "outputs": [],
   "source": [
    "import patsy\n",
    "import statsmodels.api as sm"
   ]
  },
  {
   "cell_type": "markdown",
   "metadata": {},
   "source": [
    "# Plotly for two dimension"
   ]
  },
  {
   "cell_type": "code",
   "execution_count": 9,
   "metadata": {},
   "outputs": [],
   "source": [
    "a,b,c=np.polyfit(df_2008_2012_all['INCOME'],df_2008_2012_all['NUM'], 2)"
   ]
  },
  {
   "cell_type": "code",
   "execution_count": 10,
   "metadata": {
    "scrolled": false
   },
   "outputs": [
    {
     "data": {
      "text/plain": [
       "[<matplotlib.lines.Line2D at 0x145cf2b38>]"
      ]
     },
     "execution_count": 10,
     "metadata": {},
     "output_type": "execute_result"
    },
    {
     "data": {
      "image/png": "[encoded data removed]",
      "text/plain": [
       "<Figure size 432x288 with 1 Axes>"
      ]
     },
     "metadata": {
      "needs_background": "light"
     },
     "output_type": "display_data"
    }
   ],
   "source": [
    "plt.scatter(df_2008_2012_all['INCOME'],df_2008_2012_all['NUM'])\n",
    "xs = np.arange(df_2008_2012_all['INCOME'].min(), df_2008_2012_all['INCOME'].max())\n",
    "ys = a * (xs**2) + b*xs+c\n",
    "plt.plot(xs, ys, '--k', linewidth=4, label='Model')"
   ]
  },
  {
   "cell_type": "markdown",
   "metadata": {},
   "source": [
    " # Linear Regression"
   ]
  },
  {
   "cell_type": "markdown",
   "metadata": {},
   "source": [
    "## Theft"
   ]
  },
  {
   "cell_type": "code",
   "execution_count": 12,
   "metadata": {
    "scrolled": false
   },
   "outputs": [
    {
     "data": {
      "text/plain": [
       "(array([23., 24., 12.,  8.,  4.,  0.,  3.,  2.,  0.,  1.]),\n",
       " array([ 8201. , 16247.8, 24294.6, 32341.4, 40388.2, 48435. , 56481.8,\n",
       "        64528.6, 72575.4, 80622.2, 88669. ]),\n",
       " <a list of 10 Patch objects>)"
      ]
     },
     "execution_count": 12,
     "metadata": {},
     "output_type": "execute_result"
    },
    {
     "data": {
      "image/png": "[encoded data removed]",
      "text/plain": [
       "<Figure size 432x288 with 1 Axes>"
      ]
     },
     "metadata": {
      "needs_background": "light"
     },
     "output_type": "display_data"
    }
   ],
   "source": [
    "plt.hist(df_2008_2012_crime['THEFT']['INCOME'],bins=10)"
   ]
  },
  {
   "cell_type": "code",
   "execution_count": 13,
   "metadata": {
    "scrolled": true
   },
   "outputs": [
    {
     "data": {
      "text/plain": [
       "(array([ 2., 10., 14., 12., 16.,  7.,  8.,  2.,  4.,  2.]),\n",
       " array([3.91386681, 4.01725731, 4.12064781, 4.22403831, 4.32742881,\n",
       "        4.43081931, 4.53420981, 4.63760031, 4.74099081, 4.84438131,\n",
       "        4.94777181]),\n",
       " <a list of 10 Patch objects>)"
      ]
     },
     "execution_count": 13,
     "metadata": {},
     "output_type": "execute_result"
    },
    {
     "data": {
      "image/png": "[encoded data removed]",
      "text/plain": [
       "<Figure size 432x288 with 1 Axes>"
      ]
     },
     "metadata": {
      "needs_background": "light"
     },
     "output_type": "display_data"
    }
   ],
   "source": [
    "plt.hist(df_2008_2012_crime['THEFT']['INCOME10'],bins=10)"
   ]
  },
  {
   "cell_type": "code",
   "execution_count": 17,
   "metadata": {},
   "outputs": [
    {
     "data": {
      "image/png": "[encoded data removed]",
      "text/plain": [
       "<Figure size 432x288 with 1 Axes>"
      ]
     },
     "metadata": {
      "needs_background": "light"
     },
     "output_type": "display_data"
    }
   ],
   "source": [
    "# Plot the orginal data (as before)\n",
    "plt.scatter(df_2008_2012_crime['THEFT']['INCOME10'], df_2008_2012_crime['THEFT']['NUM'], alpha=0.3, label='Data', s=100);\n",
    "\n",
    "# Generate and plot the model fit line\n",
    "xs = np.arange(df_2008_2012_crime['THEFT']['INCOME10'].min(), df_2008_2012_crime['THEFT']['INCOME10'].max())\n",
    "ys = 1.45e+04* xs +  -5.493e+04  \n",
    "plt.plot(xs, ys, '--k', linewidth=4, label='Model')\n",
    "\n",
    "plt.xlabel('INCOME10')\n",
    "plt.ylabel('NUM OF CRIME')\n",
    "plt.legend();"
   ]
  },
  {
   "cell_type": "code",
   "execution_count": 15,
   "metadata": {
    "scrolled": true
   },
   "outputs": [
    {
     "name": "stdout",
     "output_type": "stream",
     "text": [
      "                            OLS Regression Results                            \n",
      "==============================================================================\n",
      "Dep. Variable:                    NUM   R-squared:                       0.164\n",
      "Model:                            OLS   Adj. R-squared:                  0.153\n",
      "Method:                 Least Squares   F-statistic:                     14.77\n",
      "Date:                Tue, 14 May 2019   Prob (F-statistic):           0.000253\n",
      "Time:                        18:06:40   Log-Likelihood:                -792.21\n",
      "No. Observations:                  77   AIC:                             1588.\n",
      "Df Residuals:                      75   BIC:                             1593.\n",
      "Df Model:                           1                                         \n",
      "Covariance Type:            nonrobust                                         \n",
      "==============================================================================\n",
      "                 coef    std err          t      P>|t|      [0.025      0.975]\n",
      "------------------------------------------------------------------------------\n",
      "Intercept  -5.493e+04   1.64e+04     -3.344      0.001   -8.77e+04   -2.22e+04\n",
      "INCOME10     1.45e+04   3773.062      3.843      0.000    6982.420     2.2e+04\n",
      "==============================================================================\n",
      "Omnibus:                       20.078   Durbin-Watson:                   1.479\n",
      "Prob(Omnibus):                  0.000   Jarque-Bera (JB):               25.728\n",
      "Skew:                           1.201   Prob(JB):                     2.59e-06\n",
      "Kurtosis:                       4.499   Cond. No.                         91.7\n",
      "==============================================================================\n",
      "\n",
      "Warnings:\n",
      "[1] Standard Errors assume that the covariance matrix of the errors is correctly specified.\n"
     ]
    }
   ],
   "source": [
    "outcome, predictors = patsy.dmatrices('NUM ~ INCOME10', df_2008_2012_crime['THEFT'])\n",
    "mod = sm.OLS(outcome, predictors)\n",
    "res = mod.fit()\n",
    "\n",
    "## look at the results\n",
    "print(res.summary())"
   ]
  },
  {
   "cell_type": "markdown",
   "metadata": {},
   "source": [
    "## BATTERY"
   ]
  },
  {
   "cell_type": "code",
   "execution_count": 18,
   "metadata": {
    "scrolled": false
   },
   "outputs": [
    {
     "data": {
      "text/plain": [
       "(array([23., 24., 12.,  8.,  4.,  0.,  3.,  2.,  0.,  1.]),\n",
       " array([ 8201. , 16247.8, 24294.6, 32341.4, 40388.2, 48435. , 56481.8,\n",
       "        64528.6, 72575.4, 80622.2, 88669. ]),\n",
       " <a list of 10 Patch objects>)"
      ]
     },
     "execution_count": 18,
     "metadata": {},
     "output_type": "execute_result"
    },
    {
     "data": {
      "image/png": "[encoded data removed]",
      "text/plain": [
       "<Figure size 432x288 with 1 Axes>"
      ]
     },
     "metadata": {
      "needs_background": "light"
     },
     "output_type": "display_data"
    }
   ],
   "source": [
    "plt.hist(df_2008_2012_crime['BATTERY']['INCOME'],bins=10)"
   ]
  },
  {
   "cell_type": "code",
   "execution_count": 19,
   "metadata": {
    "scrolled": true
   },
   "outputs": [
    {
     "data": {
      "text/plain": [
       "(array([ 2., 10., 14., 12., 16.,  7.,  8.,  2.,  4.,  2.]),\n",
       " array([3.91386681, 4.01725731, 4.12064781, 4.22403831, 4.32742881,\n",
       "        4.43081931, 4.53420981, 4.63760031, 4.74099081, 4.84438131,\n",
       "        4.94777181]),\n",
       " <a list of 10 Patch objects>)"
      ]
     },
     "execution_count": 19,
     "metadata": {},
     "output_type": "execute_result"
    },
    {
     "data": {
      "image/png": "[encoded data removed]",
      "text/plain": [
       "<Figure size 432x288 with 1 Axes>"
      ]
     },
     "metadata": {
      "needs_background": "light"
     },
     "output_type": "display_data"
    }
   ],
   "source": [
    "plt.hist(df_2008_2012_crime['BATTERY']['INCOME10'],bins=10)"
   ]
  },
  {
   "cell_type": "code",
   "execution_count": 21,
   "metadata": {},
   "outputs": [
    {
     "data": {
      "image/png": "[encoded data removed]",
      "text/plain": [
       "<Figure size 432x288 with 1 Axes>"
      ]
     },
     "metadata": {
      "needs_background": "light"
     },
     "output_type": "display_data"
    }
   ],
   "source": [
    "# Plot the orginal data (as before)\n",
    "plt.scatter(df_2008_2012_crime['BATTERY']['INCOME10'], df_2008_2012_crime['BATTERY']['NUM'], alpha=0.3, label='Data', s=100);\n",
    "\n",
    "# Generate and plot the model fit line\n",
    "xs = np.arange(df_2008_2012_crime['BATTERY']['INCOME10'].min(), df_2008_2012_crime['BATTERY']['INCOME10'].max())\n",
    "ys = 1.45e+04*xs + -5.493e+04  \n",
    "plt.plot(xs, ys, '--k', linewidth=4, label='Model')\n",
    "\n",
    "plt.xlabel('INCOME10')\n",
    "plt.ylabel('NUM OF CRIME')\n",
    "plt.legend();"
   ]
  },
  {
   "cell_type": "code",
   "execution_count": 20,
   "metadata": {
    "scrolled": true
   },
   "outputs": [
    {
     "name": "stdout",
     "output_type": "stream",
     "text": [
      "                            OLS Regression Results                            \n",
      "==============================================================================\n",
      "Dep. Variable:                    NUM   R-squared:                       0.090\n",
      "Model:                            OLS   Adj. R-squared:                  0.078\n",
      "Method:                 Least Squares   F-statistic:                     7.415\n",
      "Date:                Tue, 14 May 2019   Prob (F-statistic):            0.00804\n",
      "Time:                        18:10:46   Log-Likelihood:                -781.06\n",
      "No. Observations:                  77   AIC:                             1566.\n",
      "Df Residuals:                      75   BIC:                             1571.\n",
      "Df Model:                           1                                         \n",
      "Covariance Type:            nonrobust                                         \n",
      "==============================================================================\n",
      "                 coef    std err          t      P>|t|      [0.025      0.975]\n",
      "------------------------------------------------------------------------------\n",
      "Intercept   4.554e+04   1.42e+04      3.204      0.002    1.72e+04    7.38e+04\n",
      "INCOME10   -8888.9407   3264.319     -2.723      0.008   -1.54e+04   -2386.084\n",
      "==============================================================================\n",
      "Omnibus:                       38.349   Durbin-Watson:                   1.381\n",
      "Prob(Omnibus):                  0.000   Jarque-Bera (JB):               98.237\n",
      "Skew:                           1.672   Prob(JB):                     4.66e-22\n",
      "Kurtosis:                       7.408   Cond. No.                         91.7\n",
      "==============================================================================\n",
      "\n",
      "Warnings:\n",
      "[1] Standard Errors assume that the covariance matrix of the errors is correctly specified.\n"
     ]
    }
   ],
   "source": [
    "outcome, predictors = patsy.dmatrices('NUM ~ INCOME10', df_2008_2012_crime['BATTERY'])\n",
    "mod = sm.OLS(outcome, predictors)\n",
    "res = mod.fit()\n",
    "\n",
    "## look at the results\n",
    "print(res.summary())"
   ]
  },
  {
   "cell_type": "markdown",
   "metadata": {},
   "source": [
    " ## NARCOTICS"
   ]
  },
  {
   "cell_type": "code",
   "execution_count": 25,
   "metadata": {
    "scrolled": false
   },
   "outputs": [
    {
     "data": {
      "text/plain": [
       "(array([23., 24., 12.,  8.,  4.,  0.,  3.,  2.,  0.,  1.]),\n",
       " array([ 8201. , 16247.8, 24294.6, 32341.4, 40388.2, 48435. , 56481.8,\n",
       "        64528.6, 72575.4, 80622.2, 88669. ]),\n",
       " <a list of 10 Patch objects>)"
      ]
     },
     "execution_count": 25,
     "metadata": {},
     "output_type": "execute_result"
    },
    {
     "data": {
      "image/png": "[encoded data removed]",
      "text/plain": [
       "<Figure size 432x288 with 1 Axes>"
      ]
     },
     "metadata": {
      "needs_background": "light"
     },
     "output_type": "display_data"
    }
   ],
   "source": [
    "plt.hist(df_2008_2012_crime['NARCOTICS']['INCOME'],bins=10)"
   ]
  },
  {
   "cell_type": "code",
   "execution_count": 26,
   "metadata": {
    "scrolled": true
   },
   "outputs": [
    {
     "data": {
      "text/plain": [
       "(array([ 2., 10., 14., 12., 16.,  7.,  8.,  2.,  4.,  2.]),\n",
       " array([3.91386681, 4.01725731, 4.12064781, 4.22403831, 4.32742881,\n",
       "        4.43081931, 4.53420981, 4.63760031, 4.74099081, 4.84438131,\n",
       "        4.94777181]),\n",
       " <a list of 10 Patch objects>)"
      ]
     },
     "execution_count": 26,
     "metadata": {},
     "output_type": "execute_result"
    },
    {
     "data": {
      "image/png": "[encoded data removed]",
      "text/plain": [
       "<Figure size 432x288 with 1 Axes>"
      ]
     },
     "metadata": {
      "needs_background": "light"
     },
     "output_type": "display_data"
    }
   ],
   "source": [
    "plt.hist(df_2008_2012_crime['NARCOTICS']['INCOME10'],bins=10)"
   ]
  },
  {
   "cell_type": "code",
   "execution_count": 27,
   "metadata": {
    "scrolled": true
   },
   "outputs": [
    {
     "data": {
      "image/png": "[encoded data removed]",
      "text/plain": [
       "<Figure size 432x288 with 1 Axes>"
      ]
     },
     "metadata": {
      "needs_background": "light"
     },
     "output_type": "display_data"
    }
   ],
   "source": [
    "# Plot the orginal data (as before)\n",
    "plt.scatter(df_2008_2012_crime['NARCOTICS']['INCOME10'], df_2008_2012_crime['NARCOTICS']['NUM'], alpha=0.3, label='Data', s=100);\n",
    "\n",
    "# Generate and plot the model fit line\n",
    "xs = np.arange(df_2008_2012_crime['NARCOTICS']['INCOME10'].min(), df_2008_2012_crime['NARCOTICS']['INCOME10'].max())\n",
    "ys = -9657.2052*xs + 4.629e+04\n",
    "plt.plot(xs, ys, '--k', linewidth=4, label='Model')\n",
    "\n",
    "plt.xlabel('INCOME10')\n",
    "plt.ylabel('NUM OF CRIME')\n",
    "plt.legend();"
   ]
  },
  {
   "cell_type": "code",
   "execution_count": 28,
   "metadata": {
    "scrolled": false
   },
   "outputs": [
    {
     "name": "stdout",
     "output_type": "stream",
     "text": [
      "                            OLS Regression Results                            \n",
      "==============================================================================\n",
      "Dep. Variable:                    NUM   R-squared:                       0.105\n",
      "Model:                            OLS   Adj. R-squared:                  0.093\n",
      "Method:                 Least Squares   F-statistic:                     8.838\n",
      "Date:                Tue, 14 May 2019   Prob (F-statistic):            0.00396\n",
      "Time:                        18:12:59   Log-Likelihood:                -780.68\n",
      "No. Observations:                  77   AIC:                             1565.\n",
      "Df Residuals:                      75   BIC:                             1570.\n",
      "Df Model:                           1                                         \n",
      "Covariance Type:            nonrobust                                         \n",
      "==============================================================================\n",
      "                 coef    std err          t      P>|t|      [0.025      0.975]\n",
      "------------------------------------------------------------------------------\n",
      "Intercept   4.629e+04   1.41e+04      3.273      0.002    1.81e+04    7.45e+04\n",
      "INCOME10   -9657.2052   3248.402     -2.973      0.004   -1.61e+04   -3186.056\n",
      "==============================================================================\n",
      "Omnibus:                      100.965   Durbin-Watson:                   1.510\n",
      "Prob(Omnibus):                  0.000   Jarque-Bera (JB):             1944.688\n",
      "Skew:                           4.048   Prob(JB):                         0.00\n",
      "Kurtosis:                      26.251   Cond. No.                         91.7\n",
      "==============================================================================\n",
      "\n",
      "Warnings:\n",
      "[1] Standard Errors assume that the covariance matrix of the errors is correctly specified.\n"
     ]
    }
   ],
   "source": [
    "outcome, predictors = patsy.dmatrices('NUM ~ INCOME10', df_2008_2012_crime['NARCOTICS'])\n",
    "mod = sm.OLS(outcome, predictors)\n",
    "res = mod.fit()\n",
    "## look at the results\n",
    "print(res.summary())"
   ]
  },
  {
   "cell_type": "code",
   "execution_count": null,
   "metadata": {},
   "outputs": [],
   "source": []
  }
 ],
 "metadata": {
  "kernelspec": {
   "display_name": "Python 3",
   "language": "python",
   "name": "python3"
  },
  "language_info": {
   "codemirror_mode": {
    "name": "ipython",
    "version": 3
   },
   "file_extension": ".py",
   "mimetype": "text/x-python",
   "name": "python",
   "nbconvert_exporter": "python",
   "pygments_lexer": "ipython3",
   "version": "3.7.3"
  }
 },
 "nbformat": 4,
 "nbformat_minor": 2
}
